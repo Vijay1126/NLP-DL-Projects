{
  "nbformat": 4,
  "nbformat_minor": 0,
  "metadata": {
    "colab": {
      "name": "Movie Review Data for Sentiment Analysis",
      "provenance": []
    },
    "kernelspec": {
      "name": "python3",
      "display_name": "Python 3"
    },
    "accelerator": "GPU"
  },
  "cells": [
    {
      "cell_type": "code",
      "metadata": {
        "id": "0CRs_apS5waP",
        "colab_type": "code",
        "colab": {}
      },
      "source": [
        "# !unzip /content/review_polarity.zip\n",
        "\n",
        "import string\n",
        "import re\n",
        "from nltk.corpus import stopwords \n",
        "import string\n",
        "import re\n",
        "from keras.preprocessing.text import Tokenizer\n",
        "from keras.utils.vis_utils import plot_model \n",
        "from keras.models import Sequential\n",
        "from keras.layers import Dense\n",
        "from pandas import DataFrame\n",
        "from matplotlib import pyplot\n",
        "\n"
      ],
      "execution_count": 25,
      "outputs": []
    },
    {
      "cell_type": "code",
      "metadata": {
        "id": "wfd5rKBG-LsW",
        "colab_type": "code",
        "colab": {}
      },
      "source": [
        "def loaddata(filename):\n",
        "  file = open(filename,\"r\")\n",
        "  text = file.read()\n",
        "  file.close()\n",
        "  return text"
      ],
      "execution_count": 4,
      "outputs": []
    },
    {
      "cell_type": "code",
      "metadata": {
        "id": "O7zbBBD_FWd7",
        "colab_type": "code",
        "colab": {
          "base_uri": "https://localhost:8080/",
          "height": 52
        },
        "outputId": "0f9b6366-a117-46e5-8c35-8bbed0d6c822"
      },
      "source": [
        "import nltk\n",
        "nltk.download('stopwords')\n",
        "def clean_document(tokens):\n",
        "  tokens = tokens.split()\n",
        "  # prepare regex for char filtering\n",
        "  re_punc = re.compile('[%s]' % re.escape(string.punctuation)) # remove punctuation from each word\n",
        "  tokens = [re_punc.sub('', w) for w in tokens]\n",
        "  # remove remaining tokens that are not alphabetic\n",
        "  tokens = [word for word in tokens if word.isalpha()] # filter out stop words\n",
        "  stop_words = set(stopwords.words('english'))\n",
        "  tokens = [w for w in tokens if not w in stop_words] # filter out short tokens\n",
        "  tokens = [word for word in tokens if len(word) > 1]\n",
        "  return tokens"
      ],
      "execution_count": 5,
      "outputs": [
        {
          "output_type": "stream",
          "text": [
            "[nltk_data] Downloading package stopwords to /root/nltk_data...\n",
            "[nltk_data]   Unzipping corpora/stopwords.zip.\n"
          ],
          "name": "stdout"
        }
      ]
    },
    {
      "cell_type": "code",
      "metadata": {
        "id": "VwjkJX6BHdhU",
        "colab_type": "code",
        "colab": {}
      },
      "source": [
        "def add_doc_to_vocab(filename, vocab): # load doc\n",
        "  doc = loaddata(filename)\n",
        "  # clean doc\n",
        "  tokens = clean_document(doc)\n",
        "    # update counts\n",
        "  vocab.update(tokens)\n",
        "  "
      ],
      "execution_count": 6,
      "outputs": []
    },
    {
      "cell_type": "code",
      "metadata": {
        "id": "J3MV4XZE_MAZ",
        "colab_type": "code",
        "colab": {}
      },
      "source": [
        "from os import listdir\n",
        "def load_from_directory(directory,vocab,train):\n",
        "  lines = list()\n",
        "  for filename in listdir(directory):\n",
        "    if train and filename.startswith('cv9'):\n",
        "       continue\n",
        "    if not train and not filename.startswith('cv9'): \n",
        "      continue\n",
        "    path = directory+'/'+filename\n",
        "    \n",
        "    line = doc_to_line(vocab, path)\n",
        "    lines.append(line)\n",
        "  return lines\n",
        "  \n",
        "    "
      ],
      "execution_count": 7,
      "outputs": []
    },
    {
      "cell_type": "code",
      "metadata": {
        "id": "WPH1POOT4WDS",
        "colab_type": "code",
        "colab": {}
      },
      "source": [
        "def save_list(lines, filename): \n",
        "  data = '\\n'.join(lines)\n",
        "  file = open(filename, 'w') \n",
        "  file.write(data)\n",
        "  file.close()\n",
        "  "
      ],
      "execution_count": 8,
      "outputs": []
    },
    {
      "cell_type": "code",
      "metadata": {
        "id": "cWb2P9aE7Q2S",
        "colab_type": "code",
        "colab": {}
      },
      "source": [
        "def doc_to_line(tokens, filename):\n",
        "  doc =loaddata(filename)\n",
        "  tokens = clean_document(doc)\n",
        "\n",
        "  tokens = [word for word in tokens if word in vocab]\n",
        "  return \" \".join(tokens)"
      ],
      "execution_count": 9,
      "outputs": []
    },
    {
      "cell_type": "code",
      "metadata": {
        "id": "3eOdOa6n4xNG",
        "colab_type": "code",
        "colab": {}
      },
      "source": [
        "def load_clean_dataset(vocab, train):\n",
        "  neg = load_from_directory('/content/review_polarity/txt_sentoken/neg', vocab, train)\n",
        "  pos = load_from_directory('/content/review_polarity/txt_sentoken/pos', vocab, train)\n",
        "  docs = neg + pos\n",
        "  # prepare labels\n",
        "  labels = [0 for _ in range(len(neg))] + [1 for _ in range(len(pos))] \n",
        "  return docs, labels\n"
      ],
      "execution_count": 10,
      "outputs": []
    },
    {
      "cell_type": "code",
      "metadata": {
        "id": "rNNkKJdIOAYz",
        "colab_type": "code",
        "colab": {}
      },
      "source": [
        "def define_model(n_words):\n",
        "# define network\n",
        "  model = Sequential()\n",
        "  model.add(Dense(50, input_shape=(n_words,), activation='relu')) \n",
        "  model.add(Dense(1, activation='sigmoid')) # compile network\n",
        "  model.compile(loss='binary_crossentropy', optimizer='adam', metrics=['accuracy']) # summarize defined model\n",
        "  # model.summary()\n",
        "  # plot_model(model, to_file='model.png', show_shapes=True)\n",
        "  return model"
      ],
      "execution_count": 36,
      "outputs": []
    },
    {
      "cell_type": "code",
      "metadata": {
        "id": "uG2LYApP1uCx",
        "colab_type": "code",
        "colab": {}
      },
      "source": [
        "def prepare_data(train_docs, test_docs, mode): # create the tokenizer\n",
        "  tokenizer = Tokenizer()\n",
        "  # fit the tokenizer on the documents \n",
        "  tokenizer.fit_on_texts(train_docs)\n",
        "    # encode training data set\n",
        "  Xtrain = tokenizer.texts_to_matrix(train_docs, mode=mode)\n",
        "    # encode training data set\n",
        "  Xtest = tokenizer.texts_to_matrix(test_docs, mode=mode) \n",
        "\n",
        "  return Xtrain, Xtest\n"
      ],
      "execution_count": 38,
      "outputs": []
    },
    {
      "cell_type": "code",
      "metadata": {
        "id": "tKUiyg5X160E",
        "colab_type": "code",
        "colab": {}
      },
      "source": [
        "def evaluate_mode(Xtrain, ytrain, Xtest, ytest): \n",
        "  scores = list()\n",
        "  n_repeats = 10\n",
        "  n_words = Xtest.shape[1]\n",
        "  for i in range(n_repeats):\n",
        "  # define network\n",
        "    model = define_model(n_words)\n",
        "    # fit network\n",
        "    model.fit(Xtrain, ytrain, epochs=10, verbose=0) # evaluate\n",
        "    _, acc = model.evaluate(Xtest, ytest, verbose=0) \n",
        "    scores.append(acc)\n",
        "    print('%d accuracy: %s' % ((i+1), acc))\n",
        "  return scores"
      ],
      "execution_count": 46,
      "outputs": []
    },
    {
      "cell_type": "code",
      "metadata": {
        "id": "0eDQvpJe7Q2T",
        "colab_type": "code",
        "colab": {}
      },
      "source": [
        "def predict_sentiment(review, vocab, tokenizer, model): # clean\n",
        "  tokens = clean_document(review)\n",
        "    # filter by vocab\n",
        "  tokens = [w for w in tokens if w in vocab] # convert to line\n",
        "  line = ' '.join(tokens)\n",
        "  # encode\n",
        "  encoded = tokenizer.texts_to_matrix([line], mode='binary') # predict sentiment\n",
        "  yhat = model.predict(encoded, verbose=0)\n",
        "  # retrieve predicted percentage and label\n",
        "  percent_pos = yhat[0,0]\n",
        "  if round(percent_pos) == 0:\n",
        "    return (1-percent_pos), 'NEGATIVE' \n",
        "  return percent_pos, 'POSITIVE'"
      ],
      "execution_count": 56,
      "outputs": []
    },
    {
      "cell_type": "code",
      "metadata": {
        "id": "87IEP1QL_rbv",
        "colab_type": "code",
        "colab": {}
      },
      "source": [
        "vocab_filename = 'vocab.txt'\n",
        "vocab = loaddata(vocab_filename)\n",
        "vocab = set(vocab.split())\n"
      ],
      "execution_count": 40,
      "outputs": []
    },
    {
      "cell_type": "code",
      "metadata": {
        "id": "QoY0kCyR6fko",
        "colab_type": "code",
        "colab": {}
      },
      "source": [
        "train_docs, ytrain = load_clean_dataset(vocab, True) \n",
        "test_docs, ytest = load_clean_dataset(vocab, False)\n"
      ],
      "execution_count": 41,
      "outputs": []
    },
    {
      "cell_type": "code",
      "metadata": {
        "id": "c_37mFUnKo9M",
        "colab_type": "code",
        "colab": {
          "base_uri": "https://localhost:8080/",
          "height": 868
        },
        "outputId": "0b4e550d-fa7a-4b92-bf27-9c6edf033dcc"
      },
      "source": [
        "modes = ['binary', 'count', 'tfidf', 'freq']\n",
        "results = DataFrame()\n",
        "for mode in modes:\n",
        "  # prepare data for mode\n",
        "  Xtrain, Xtest = prepare_data(train_docs, test_docs, mode)\n",
        "    # evaluate model on data for mode\n",
        "  results[mode] = evaluate_mode(Xtrain, ytrain, Xtest, ytest)\n",
        "  # summarize results\n",
        "print(results.describe())\n",
        "results.boxplot\n",
        "pyplot.show()"
      ],
      "execution_count": 48,
      "outputs": [
        {
          "output_type": "stream",
          "text": [
            "1 accuracy: 0.9150000214576721\n",
            "2 accuracy: 0.925000011920929\n",
            "3 accuracy: 0.9150000214576721\n",
            "4 accuracy: 0.9049999713897705\n",
            "5 accuracy: 0.9200000166893005\n",
            "6 accuracy: 0.9150000214576721\n",
            "7 accuracy: 0.9100000262260437\n",
            "8 accuracy: 0.9350000023841858\n",
            "9 accuracy: 0.9300000071525574\n",
            "10 accuracy: 0.9200000166893005\n",
            "1 accuracy: 0.875\n",
            "2 accuracy: 0.8949999809265137\n",
            "3 accuracy: 0.8899999856948853\n",
            "4 accuracy: 0.8949999809265137\n",
            "5 accuracy: 0.8849999904632568\n",
            "6 accuracy: 0.9049999713897705\n",
            "7 accuracy: 0.8700000047683716\n",
            "8 accuracy: 0.8949999809265137\n",
            "9 accuracy: 0.8799999952316284\n",
            "10 accuracy: 0.8999999761581421\n",
            "1 accuracy: 0.8600000143051147\n",
            "2 accuracy: 0.8650000095367432\n",
            "3 accuracy: 0.8650000095367432\n",
            "4 accuracy: 0.8650000095367432\n",
            "5 accuracy: 0.8600000143051147\n",
            "6 accuracy: 0.8600000143051147\n",
            "7 accuracy: 0.8700000047683716\n",
            "8 accuracy: 0.8650000095367432\n",
            "9 accuracy: 0.875\n",
            "10 accuracy: 0.8849999904632568\n",
            "1 accuracy: 0.8700000047683716\n",
            "2 accuracy: 0.8700000047683716\n",
            "3 accuracy: 0.8600000143051147\n",
            "4 accuracy: 0.8650000095367432\n",
            "5 accuracy: 0.8700000047683716\n",
            "6 accuracy: 0.8650000095367432\n",
            "7 accuracy: 0.8650000095367432\n",
            "8 accuracy: 0.8700000047683716\n",
            "9 accuracy: 0.875\n",
            "10 accuracy: 0.8700000047683716\n",
            "          binary      count      tfidf       freq\n",
            "count  10.000000  10.000000  10.000000  10.000000\n",
            "mean    0.919000   0.889000   0.867000   0.868000\n",
            "std     0.009068   0.011255   0.007888   0.004216\n",
            "min     0.905000   0.870000   0.860000   0.860000\n",
            "25%     0.915000   0.881250   0.861250   0.865000\n",
            "50%     0.917500   0.892500   0.865000   0.870000\n",
            "75%     0.923750   0.895000   0.868750   0.870000\n",
            "max     0.935000   0.905000   0.885000   0.875000\n"
          ],
          "name": "stdout"
        }
      ]
    },
    {
      "cell_type": "code",
      "metadata": {
        "id": "768sz2ZU6pe8",
        "colab_type": "code",
        "colab": {
          "base_uri": "https://localhost:8080/",
          "height": 265
        },
        "outputId": "99f9d1ba-4794-49ad-c9ec-909e805f1902"
      },
      "source": [
        "results.boxplot()\n",
        "pyplot.show()"
      ],
      "execution_count": 51,
      "outputs": [
        {
          "output_type": "display_data",
          "data": {
            "image/png": "[encoded data removed]",
            "text/plain": [
              "<Figure size 432x288 with 1 Axes>"
            ]
          },
          "metadata": {
            "tags": [],
            "needs_background": "light"
          }
        }
      ]
    },
    {
      "cell_type": "code",
      "metadata": {
        "id": "83uWcbfQ6_jH",
        "colab_type": "code",
        "colab": {
          "base_uri": "https://localhost:8080/",
          "height": 86
        },
        "outputId": "17e3794c-e58e-42fe-bc63-c1ba5efe4e66"
      },
      "source": [
        "text = 'BAD'\n",
        "percent, sentiment = predict_sentiment(text, vocab, tokenizer, model) \n",
        "print('Review: [%s]\\nSentiment: %s (%.3f%%)' % (text, sentiment, percent*100)) # test negative text\n",
        "text = 'This is a bad movie.'\n",
        "percent, sentiment = predict_sentiment(text, vocab, tokenizer, model) \n",
        "print('Review: [%s]\\nSentiment: %s (%.3f%%)' % (text, sentiment, percent*100))"
      ],
      "execution_count": 68,
      "outputs": [
        {
          "output_type": "stream",
          "text": [
            "Review: [BAD]\n",
            "Sentiment: NEGATIVE (51.729%)\n",
            "Review: [This is a bad movie.]\n",
            "Sentiment: NEGATIVE (55.532%)\n"
          ],
          "name": "stdout"
        }
      ]
    }
  ]
}