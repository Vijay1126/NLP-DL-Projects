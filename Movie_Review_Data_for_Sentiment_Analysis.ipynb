{
  "nbformat": 4,
  "nbformat_minor": 0,
  "metadata": {
    "colab": {
      "name": "Movie Review Data for Sentiment Analysis",
      "provenance": [],
      "toc_visible": true,
      "mount_file_id": "19PO9FKEOifwx3e_hS8rq6egC_gD6qnPy",
      "authorship_tag": "ABX9TyMd7j88x+DGfRISXwakIk4A",
      "include_colab_link": true
    },
    "kernelspec": {
      "name": "python3",
      "display_name": "Python 3"
    }
  },
  "cells": [
    {
      "cell_type": "markdown",
      "metadata": {
        "id": "view-in-github",
        "colab_type": "text"
      },
      "source": [
        "<a href=\"https://colab.research.google.com/github/Vijay1126/NLP-DL-Projects/blob/master/Movie_Review_Data_for_Sentiment_Analysis.ipynb\" target=\"_parent\"><img src=\"https://colab.research.google.com/assets/colab-badge.svg\" alt=\"Open In Colab\"/></a>"
      ]
    },
    {
      "cell_type": "code",
      "metadata": {
        "id": "0CRs_apS5waP",
        "colab_type": "code",
        "colab": {
          "base_uri": "https://localhost:8080/",
          "height": 69
        },
        "outputId": "a70495ba-4891-4a82-a129-7b77a54c2fe1"
      },
      "source": [
        "!unzip /content/review_polarity.zip\n",
        "from nltk.corpus import stopwords\n",
        "import string\n",
        "import re"
      ],
      "execution_count": null,
      "outputs": [
        {
          "output_type": "stream",
          "text": [
            "Archive:  /content/review_polarity.zip\n",
            "replace __MACOSX/._review_polarity? [y]es, [n]o, [A]ll, [N]one, [r]ename: n\n",
            "replace review_polarity/.DS_Store? [y]es, [n]o, [A]ll, [N]one, [r]ename: N\n"
          ],
          "name": "stdout"
        }
      ]
    },
    {
      "cell_type": "code",
      "metadata": {
        "id": "wfd5rKBG-LsW",
        "colab_type": "code",
        "colab": {}
      },
      "source": [
        "def loaddata(filename):\n",
        "  file = open(filename,\"r\")\n",
        "  text = file.read()\n",
        "  file.close()\n",
        "  return text"
      ],
      "execution_count": null,
      "outputs": []
    },
    {
      "cell_type": "code",
      "metadata": {
        "id": "J3MV4XZE_MAZ",
        "colab_type": "code",
        "colab": {}
      },
      "source": [
        "from os import listdir\n",
        "def loadFromDirectory(directory):\n",
        "  \n",
        "  for filename in listdir(directory):\n",
        "    if not filename.endswith(\".txt\"):\n",
        "      pass\n",
        "    path = directory+'/'+filename\n",
        "    doc = loaddata(path)\n",
        "  return doc\n",
        "    "
      ],
      "execution_count": null,
      "outputs": []
    },
    {
      "cell_type": "code",
      "metadata": {
        "id": "87IEP1QL_rbv",
        "colab_type": "code",
        "colab": {}
      },
      "source": [
        "directory = '/content/review_polarity/txt_sentoken/neg'\n",
        "loadFromDirectory(directory)"
      ],
      "execution_count": null,
      "outputs": []
    },
    {
      "cell_type": "code",
      "metadata": {
        "id": "r9BXIdJ6C_eT",
        "colab_type": "code",
        "colab": {}
      },
      "source": [
        "filename = '/content/review_polarity/txt_sentoken/neg/cv002_17424.txt'\n",
        "text = loaddata(filename)\n",
        "tokens = text.split()"
      ],
      "execution_count": null,
      "outputs": []
    },
    {
      "cell_type": "markdown",
      "metadata": {
        "id": "TaP-c-vZF7G4",
        "colab_type": "text"
      },
      "source": [
        "Before using regEx to filter the data\n"
      ]
    },
    {
      "cell_type": "code",
      "metadata": {
        "id": "jJ7DqPCuDXOv",
        "colab_type": "code",
        "colab": {
          "base_uri": "https://localhost:8080/",
          "height": 55
        },
        "outputId": "48c79288-3b40-4359-8c92-b93b3fc607e7"
      },
      "source": [
        "print(tokens)"
      ],
      "execution_count": null,
      "outputs": [
        {
          "output_type": "stream",
          "text": [
            "['it', 'is', 'movies', 'like', 'these', 'that', 'make', 'a', 'jaded', 'movie', 'viewer', 'thankful', 'for', 'the', 'invention', 'of', 'the', 'timex', 'indiglo', 'watch', '.', 'based', 'on', 'the', 'late', \"1960's\", 'television', 'show', 'by', 'the', 'same', 'name', ',', 'the', 'mod', 'squad', 'tells', 'the', 'tale', 'of', 'three', 'reformed', 'criminals', 'under', 'the', 'employ', 'of', 'the', 'police', 'to', 'go', 'undercover', '.', 'however', ',', 'things', 'go', 'wrong', 'as', 'evidence', 'gets', 'stolen', 'and', 'they', 'are', 'immediately', 'under', 'suspicion', '.', 'of', 'course', ',', 'the', 'ads', 'make', 'it', 'seem', 'like', 'so', 'much', 'more', '.', 'quick', 'cuts', ',', 'cool', 'music', ',', 'claire', \"dane's\", 'nice', 'hair', 'and', 'cute', 'outfits', ',', 'car', 'chases', ',', 'stuff', 'blowing', 'up', ',', 'and', 'the', 'like', '.', 'sounds', 'like', 'a', 'cool', 'movie', ',', 'does', 'it', 'not', '?', 'after', 'the', 'first', 'fifteen', 'minutes', ',', 'it', 'quickly', 'becomes', 'apparent', 'that', 'it', 'is', 'not', '.', 'the', 'mod', 'squad', 'is', 'certainly', 'a', 'slick', 'looking', 'production', ',', 'complete', 'with', 'nice', 'hair', 'and', 'costumes', ',', 'but', 'that', 'simply', \"isn't\", 'enough', '.', 'the', 'film', 'is', 'best', 'described', 'as', 'a', 'cross', 'between', 'an', 'hour-long', 'cop', 'show', 'and', 'a', 'music', 'video', ',', 'both', 'stretched', 'out', 'into', 'the', 'span', 'of', 'an', 'hour', 'and', 'a', 'half', '.', 'and', 'with', 'it', 'comes', 'every', 'single', 'clich', '?', '.', 'it', \"doesn't\", 'really', 'matter', 'that', 'the', 'film', 'is', 'based', 'on', 'a', 'television', 'show', ',', 'as', 'most', 'of', 'the', 'plot', 'elements', 'have', 'been', 'recycled', 'from', 'everything', \"we've\", 'already', 'seen', '.', 'the', 'characters', 'and', 'acting', 'is', 'nothing', 'spectacular', ',', 'sometimes', 'even', 'bordering', 'on', 'wooden', '.', 'claire', 'danes', 'and', 'omar', 'epps', 'deliver', 'their', 'lines', 'as', 'if', 'they', 'are', 'bored', ',', 'which', 'really', 'transfers', 'onto', 'the', 'audience', '.', 'the', 'only', 'one', 'to', 'escape', 'relatively', 'unscathed', 'is', 'giovanni', 'ribisi', ',', 'who', 'plays', 'the', 'resident', 'crazy', 'man', ',', 'ultimately', 'being', 'the', 'only', 'thing', 'worth', 'watching', '.', 'unfortunately', ',', 'even', \"he's\", 'not', 'enough', 'to', 'save', 'this', 'convoluted', 'mess', ',', 'as', 'all', 'the', 'characters', \"don't\", 'do', 'much', 'apart', 'from', 'occupying', 'screen', 'time', '.', 'with', 'the', 'young', 'cast', ',', 'cool', 'clothes', ',', 'nice', 'hair', ',', 'and', 'hip', 'soundtrack', ',', 'it', 'appears', 'that', 'the', 'film', 'is', 'geared', 'towards', 'the', 'teenage', 'mindset', '.', 'despite', 'an', 'american', \"'r'\", 'rating', '(', 'which', 'the', 'content', 'does', 'not', 'justify', ')', ',', 'the', 'film', 'is', 'way', 'too', 'juvenile', 'for', 'the', 'older', 'mindset', '.', 'information', 'on', 'the', 'characters', 'is', 'literally', 'spoon-fed', 'to', 'the', 'audience', '(', 'would', 'it', 'be', 'that', 'hard', 'to', 'show', 'us', 'instead', 'of', 'telling', 'us', '?', ')', ',', 'dialogue', 'is', 'poorly', 'written', ',', 'and', 'the', 'plot', 'is', 'extremely', 'predictable', '.', 'the', 'way', 'the', 'film', 'progresses', ',', 'you', 'likely', \"won't\", 'even', 'care', 'if', 'the', 'heroes', 'are', 'in', 'any', 'jeopardy', ',', 'because', \"you'll\", 'know', 'they', \"aren't\", '.', 'basing', 'the', 'show', 'on', 'a', \"1960's\", 'television', 'show', 'that', 'nobody', 'remembers', 'is', 'of', 'questionable', 'wisdom', ',', 'especially', 'when', 'one', 'considers', 'the', 'target', 'audience', 'and', 'the', 'fact', 'that', 'the', 'number', 'of', 'memorable', 'films', 'based', 'on', 'television', 'shows', 'can', 'be', 'counted', 'on', 'one', 'hand', '(', 'even', 'one', \"that's\", 'missing', 'a', 'finger', 'or', 'two', ')', '.', 'the', 'number', 'of', 'times', 'that', 'i', 'checked', 'my', 'watch', '(', 'six', ')', 'is', 'a', 'clear', 'indication', 'that', 'this', 'film', 'is', 'not', 'one', 'of', 'them', '.', 'it', 'is', 'clear', 'that', 'the', 'film', 'is', 'nothing', 'more', 'than', 'an', 'attempt', 'to', 'cash', 'in', 'on', 'the', 'teenage', 'spending', 'dollar', ',', 'judging', 'from', 'the', 'rash', 'of', 'really', 'awful', 'teen-flicks', 'that', \"we've\", 'been', 'seeing', 'as', 'of', 'late', '.', 'avoid', 'this', 'film', 'at', 'all', 'costs', '.']\n"
          ],
          "name": "stdout"
        }
      ]
    },
    {
      "cell_type": "markdown",
      "metadata": {
        "id": "C9MpCaCBGCdV",
        "colab_type": "text"
      },
      "source": [
        "After"
      ]
    },
    {
      "cell_type": "code",
      "metadata": {
        "id": "-8Odzd33DdaT",
        "colab_type": "code",
        "colab": {
          "base_uri": "https://localhost:8080/",
          "height": 55
        },
        "outputId": "a9ac737b-0eb6-4eab-b7a8-5c6d4e00fb6d"
      },
      "source": [
        "\n",
        "re_punc = re.compile('[%s]' % re.escape(string.punctuation))\n",
        "tokens = [re_punc.sub('',w) for w in tokens]\n",
        "print(tokens)"
      ],
      "execution_count": null,
      "outputs": [
        {
          "output_type": "stream",
          "text": [
            "['it', 'is', 'movies', 'like', 'these', 'that', 'make', 'a', 'jaded', 'movie', 'viewer', 'thankful', 'for', 'the', 'invention', 'of', 'the', 'timex', 'indiglo', 'watch', '', 'based', 'on', 'the', 'late', '1960s', 'television', 'show', 'by', 'the', 'same', 'name', '', 'the', 'mod', 'squad', 'tells', 'the', 'tale', 'of', 'three', 'reformed', 'criminals', 'under', 'the', 'employ', 'of', 'the', 'police', 'to', 'go', 'undercover', '', 'however', '', 'things', 'go', 'wrong', 'as', 'evidence', 'gets', 'stolen', 'and', 'they', 'are', 'immediately', 'under', 'suspicion', '', 'of', 'course', '', 'the', 'ads', 'make', 'it', 'seem', 'like', 'so', 'much', 'more', '', 'quick', 'cuts', '', 'cool', 'music', '', 'claire', 'danes', 'nice', 'hair', 'and', 'cute', 'outfits', '', 'car', 'chases', '', 'stuff', 'blowing', 'up', '', 'and', 'the', 'like', '', 'sounds', 'like', 'a', 'cool', 'movie', '', 'does', 'it', 'not', '', 'after', 'the', 'first', 'fifteen', 'minutes', '', 'it', 'quickly', 'becomes', 'apparent', 'that', 'it', 'is', 'not', '', 'the', 'mod', 'squad', 'is', 'certainly', 'a', 'slick', 'looking', 'production', '', 'complete', 'with', 'nice', 'hair', 'and', 'costumes', '', 'but', 'that', 'simply', 'isnt', 'enough', '', 'the', 'film', 'is', 'best', 'described', 'as', 'a', 'cross', 'between', 'an', 'hourlong', 'cop', 'show', 'and', 'a', 'music', 'video', '', 'both', 'stretched', 'out', 'into', 'the', 'span', 'of', 'an', 'hour', 'and', 'a', 'half', '', 'and', 'with', 'it', 'comes', 'every', 'single', 'clich', '', '', 'it', 'doesnt', 'really', 'matter', 'that', 'the', 'film', 'is', 'based', 'on', 'a', 'television', 'show', '', 'as', 'most', 'of', 'the', 'plot', 'elements', 'have', 'been', 'recycled', 'from', 'everything', 'weve', 'already', 'seen', '', 'the', 'characters', 'and', 'acting', 'is', 'nothing', 'spectacular', '', 'sometimes', 'even', 'bordering', 'on', 'wooden', '', 'claire', 'danes', 'and', 'omar', 'epps', 'deliver', 'their', 'lines', 'as', 'if', 'they', 'are', 'bored', '', 'which', 'really', 'transfers', 'onto', 'the', 'audience', '', 'the', 'only', 'one', 'to', 'escape', 'relatively', 'unscathed', 'is', 'giovanni', 'ribisi', '', 'who', 'plays', 'the', 'resident', 'crazy', 'man', '', 'ultimately', 'being', 'the', 'only', 'thing', 'worth', 'watching', '', 'unfortunately', '', 'even', 'hes', 'not', 'enough', 'to', 'save', 'this', 'convoluted', 'mess', '', 'as', 'all', 'the', 'characters', 'dont', 'do', 'much', 'apart', 'from', 'occupying', 'screen', 'time', '', 'with', 'the', 'young', 'cast', '', 'cool', 'clothes', '', 'nice', 'hair', '', 'and', 'hip', 'soundtrack', '', 'it', 'appears', 'that', 'the', 'film', 'is', 'geared', 'towards', 'the', 'teenage', 'mindset', '', 'despite', 'an', 'american', 'r', 'rating', '', 'which', 'the', 'content', 'does', 'not', 'justify', '', '', 'the', 'film', 'is', 'way', 'too', 'juvenile', 'for', 'the', 'older', 'mindset', '', 'information', 'on', 'the', 'characters', 'is', 'literally', 'spoonfed', 'to', 'the', 'audience', '', 'would', 'it', 'be', 'that', 'hard', 'to', 'show', 'us', 'instead', 'of', 'telling', 'us', '', '', '', 'dialogue', 'is', 'poorly', 'written', '', 'and', 'the', 'plot', 'is', 'extremely', 'predictable', '', 'the', 'way', 'the', 'film', 'progresses', '', 'you', 'likely', 'wont', 'even', 'care', 'if', 'the', 'heroes', 'are', 'in', 'any', 'jeopardy', '', 'because', 'youll', 'know', 'they', 'arent', '', 'basing', 'the', 'show', 'on', 'a', '1960s', 'television', 'show', 'that', 'nobody', 'remembers', 'is', 'of', 'questionable', 'wisdom', '', 'especially', 'when', 'one', 'considers', 'the', 'target', 'audience', 'and', 'the', 'fact', 'that', 'the', 'number', 'of', 'memorable', 'films', 'based', 'on', 'television', 'shows', 'can', 'be', 'counted', 'on', 'one', 'hand', '', 'even', 'one', 'thats', 'missing', 'a', 'finger', 'or', 'two', '', '', 'the', 'number', 'of', 'times', 'that', 'i', 'checked', 'my', 'watch', '', 'six', '', 'is', 'a', 'clear', 'indication', 'that', 'this', 'film', 'is', 'not', 'one', 'of', 'them', '', 'it', 'is', 'clear', 'that', 'the', 'film', 'is', 'nothing', 'more', 'than', 'an', 'attempt', 'to', 'cash', 'in', 'on', 'the', 'teenage', 'spending', 'dollar', '', 'judging', 'from', 'the', 'rash', 'of', 'really', 'awful', 'teenflicks', 'that', 'weve', 'been', 'seeing', 'as', 'of', 'late', '', 'avoid', 'this', 'film', 'at', 'all', 'costs', '']\n"
          ],
          "name": "stdout"
        }
      ]
    },
    {
      "cell_type": "code",
      "metadata": {
        "id": "O7zbBBD_FWd7",
        "colab_type": "code",
        "colab": {}
      },
      "source": [
        "\n",
        "from nltk.corpus import stopwords \n",
        "import string\n",
        "import re\n",
        "\n",
        "\n",
        "def cleanDocument(tokens):\n",
        "  tokens = text.split()\n",
        "  # prepare regex for char filtering\n",
        "  re_punc = re.compile('[%s]' % re.escape(string.punctuation)) # remove punctuation from each word\n",
        "  tokens = [re_punc.sub('', w) for w in tokens]\n",
        "  # remove remaining tokens that are not alphabetic\n",
        "  tokens = [word for word in tokens if word.isalpha()] # filter out stop words\n",
        "  stop_words = set(stopwords.words('english'))\n",
        "  tokens = [w for w in tokens if not w in stop_words] # filter out short tokens\n",
        "  tokens = [word for word in tokens if len(word) > 1]\n",
        "  return tokens"
      ],
      "execution_count": null,
      "outputs": []
    },
    {
      "cell_type": "code",
      "metadata": {
        "id": "8T0x6EuGGIe8",
        "colab_type": "code",
        "colab": {
          "base_uri": "https://localhost:8080/",
          "height": 55
        },
        "outputId": "eeb171aa-3d9f-48e2-f580-ff7baa9dd646"
      },
      "source": [
        "filename = '/content/review_polarity/txt_sentoken/neg/cv005_29357.txt' \n",
        "text = loaddata(filename)\n",
        "tokens = cleanDocument(text)\n",
        "print(tokens)\n"
      ],
      "execution_count": null,
      "outputs": [
        {
          "output_type": "stream",
          "text": [
            "['capsule', 'planet', 'mars', 'police', 'taking', 'custody', 'accused', 'murderer', 'face', 'title', 'menace', 'lot', 'fighting', 'whole', 'lot', 'story', 'otherwise', 'john', 'carpenter', 'reprises', 'many', 'ideas', 'previous', 'films', 'especially', 'assault', 'precinct', 'new', 'film', 'comes', 'homage', 'john', 'carpenter', 'apparently', 'believes', 'action', 'scenes', 'people', 'fight', 'something', 'horrible', 'horror', 'scenes', 'writer', 'director', 'horror', 'films', 'supposedly', 'expert', 'horror', 'bad', 'mistake', 'make', 'ghosts', 'mars', 'called', 'horror', 'movie', 'drawn', 'fight', 'humans', 'surprisingly', 'lowpowered', 'alien', 'menace', 'addition', 'anybody', 'john', 'carpenter', 'made', 'ghosts', 'mars', 'carpenter', 'would', 'grounds', 'sue', 'film', 'chock', 'full', 'pieces', 'taken', 'assault', 'precinct', 'thing', 'prince', 'darkness', 'fact', 'surprising', 'carpenter', 'managed', 'fit', 'many', 'pieces', 'previous', 'work', 'film', 'admittedly', 'novel', 'way', 'still', 'make', 'really', 'good', 'science', 'fiction', 'experience', 'ghosts', 'mars', 'takes', 'place', 'year', 'mars', 'mostly', 'terraformed', 'humans', 'walk', 'surface', 'without', 'breathing', 'gear', 'good', 'films', 'budget', 'never', 'mentioned', 'gravity', 'mars', 'increased', 'somehow', 'earthnormal', 'making', 'easier', 'film', 'society', 'changed', 'bit', 'time', 'advanced', 'surprisingly', 'little', 'apparently', 'culture', 'changed', 'women', 'much', 'positions', 'control', 'carpenters', 'view', 'women', 'really', 'made', 'mess', 'things', 'society', 'stagnated', 'female', 'control', 'beyond', 'minor', 'technological', 'advances', 'society', 'changed', 'less', 'years', 'might', 'expect', 'change', 'ten', 'basic', 'plot', 'ghosts', 'mars', 'much', 'common', 'assault', 'precinct', 'except', 'precinct', 'yes', 'precinct', 'replaced', 'somewhat', 'tacky', 'looking', 'rundown', 'martian', 'mining', 'colony', 'instead', 'criminal', 'napolean', 'wilson', 'film', 'criminal', 'desolation', 'williams', 'instead', 'facing', 'hoodlums', 'automatic', 'weapons', 'police', 'face', 'well', 'ghosts', 'mars', 'ghosts', 'somewhat', 'alien', 'nature', 'behave', 'alien', 'manner', 'essentially', 'behave', 'human', 'savages', 'another', 'lapse', 'imagination', 'story', 'told', 'flashback', 'flashback', 'within', 'flashback', 'flashback', 'within', 'flashback', 'within', 'flashback', 'ghosts', 'mars', 'takes', 'place', 'entirely', 'night', 'filmed', 'almost', 'entirely', 'tones', 'red', 'yellow', 'black', 'carpenter', 'manages', 'give', 'us', 'powerful', 'opening', 'scene', 'showing', 'mining', 'train', 'rushing', 'martian', 'night', 'sound', 'music', 'heavy', 'beat', 'sadly', 'follows', 'really', 'buildup', 'terror', 'creates', 'looks', 'little', 'much', 'like', 'fugitive', 'wannabes', 'rock', 'band', 'kiss', 'idea', 'building', 'suspense', 'bunch', 'sudden', 'jump', 'scenes', 'sucker', 'viewer', 'thinking', 'something', 'scary', 'happening', 'prove', 'something', 'boring', 'standard', 'haunted', 'house', 'film', 'shock', 'effects', 'require', 'great', 'talent', 'give', 'audience', 'somewhat', 'newer', 'also', 'unimpressive', 'cgi', 'digital', 'decapitations', 'fights', 'within', 'short', 'stretch', 'time', 'seen', 'release', 'mission', 'mars', 'red', 'planet', 'ghosts', 'mars', 'mission', 'mars', 'panned', 'many', 'reviewers', 'looks', 'better', 'better', 'better', 'time', 'goes', 'rate', 'ghosts', 'mars', 'scale', 'scale', 'following', 'movie', 'showed', 'wife', 'liked', 'ghosts', 'mars', 'moderately', 'carpenters', 'classic', 'assault', 'precinct', 'comment', 'seeing', 'film', 'twice']\n"
          ],
          "name": "stdout"
        }
      ]
    },
    {
      "cell_type": "code",
      "metadata": {
        "id": "VwjkJX6BHdhU",
        "colab_type": "code",
        "colab": {}
      },
      "source": [
        ""
      ],
      "execution_count": null,
      "outputs": []
    }
  ]
}